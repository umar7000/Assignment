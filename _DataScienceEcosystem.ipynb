{
 "cells": [
  {
   "cell_type": "markdown",
   "id": "3607f0fb-062f-4b3f-be7a-bffcbb071fdc",
   "metadata": {},
   "source": [
    "# Data Science Tools and Ecosystem"
   ]
  },
  {
   "cell_type": "markdown",
   "id": "9c259b51-ff59-486b-ae29-5d6c243555e4",
   "metadata": {},
   "source": [
    "# In this notebook, Data Science Tools and Ecosystem are summarized. This section provides an overview of the key tools, libraries, and concepts that form the foundation of data science workflows, offering insights into their applications and significance in modern data analysis."
   ]
  },
  {
   "cell_type": "markdown",
   "id": "8d466f84-96d9-4ad7-9c47-5588a1224ea5",
   "metadata": {},
   "source": [
    "## Data Science Languages\n",
    "\n",
    "# Some of the popular languages that Data Scientists use are:\n",
    "\n",
    "1. **Python** - Widely used for its versatility, extensive libraries (e.g., NumPy, pandas, scikit-learn), and ease of learning.\n",
    "2. **R** - Known for its strong statistical analysis capabilities and rich ecosystem of packages like ggplot2 and dplyr.\n",
    "3. **SQL** - Essential for querying and managing data in relational databases, a key skill in data science workflows."
   ]
  },
  {
   "cell_type": "markdown",
   "id": "ec74b7ec-e2ac-4559-bef4-18a281dd4c4b",
   "metadata": {},
   "source": [
    "## Data Science Libraries\n",
    "\n",
    "## Some of the commonly used libraries used by Data Scientists include:\n",
    "\n",
    "1. **pandas** - A Python library for data manipulation and analysis, offering powerful data structures like DataFrames.\n",
    "2. **NumPy** - A Python library for numerical computing, providing support for arrays and mathematical operations.\n",
    "3. **ggplot2** - An R library for creating advanced data visualizations, based on the Grammar of Graphics.\n",
    "4. **scikit-learn** - A Python library for machine learning, featuring tools for classification, regression, clustering, and more."
   ]
  },
  {
   "cell_type": "markdown",
   "id": "85c66d85-78c6-4d3b-8108-8df6b9e0f1d9",
   "metadata": {},
   "source": [
    "## Data Science Tools\n",
    "\n",
    "| Data Science Tools       |\n",
    "|--------------------------|\n",
    "| Jupyter Notebook         |\n",
    "| RStudio                  |\n",
    "| Visual Studio Code (VS Code) |"
   ]
  },
  {
   "cell_type": "markdown",
   "id": "15032b38-1df9-4dc7-bda7-3bb930c72334",
   "metadata": {},
   "source": [
    "### Below are a few examples of evaluating arithmetic expressions in Python"
   ]
  },
  {
   "cell_type": "code",
   "execution_count": 1,
   "id": "0b804bb3-75a4-4cf2-8e74-974bc0e63166",
   "metadata": {},
   "outputs": [
    {
     "data": {
      "text/plain": [
       "17"
      ]
     },
     "execution_count": 1,
     "metadata": {},
     "output_type": "execute_result"
    }
   ],
   "source": [
    "# This is a simple arithmetic expression to multiply then add integers\n",
    "(3 * 4) + 5"
   ]
  },
  {
   "cell_type": "code",
   "execution_count": 2,
   "id": "50c95530-f061-4c2b-90d2-b81deb9981d2",
   "metadata": {},
   "outputs": [
    {
     "data": {
      "text/plain": [
       "3.3333333333333335"
      ]
     },
     "execution_count": 2,
     "metadata": {},
     "output_type": "execute_result"
    }
   ],
   "source": [
    "# This will convert 200 minutes to hours by dividing by 60\n",
    "200 / 60"
   ]
  },
  {
   "cell_type": "markdown",
   "id": "9620c8cc-7627-412d-9a3c-62b92f0eeaa1",
   "metadata": {},
   "source": [
    "## Objectives\n",
    "\n",
    "**Objectives:**\n",
    "\n",
    "- List popular languages for Data Science\n",
    "- Identify commonly used libraries in Data Science\n",
    "- Demonstrate the use of development environment tools for Data Science\n",
    "- Perform basic arithmetic operations in Python\n",
    "- Convert units (e.g., minutes to hours) using Python expressions"
   ]
  },
  {
   "cell_type": "markdown",
   "id": "8b32622f-c963-40b7-ae36-3b5a811ab25f",
   "metadata": {},
   "source": [
    "## Author\n",
    "\n",
    "Umar Ali"
   ]
  },
  {
   "cell_type": "code",
   "execution_count": null,
   "id": "f6b7d3e2-2324-42e9-b530-436f3cb6eba4",
   "metadata": {},
   "outputs": [],
   "source": []
  }
 ],
 "metadata": {
  "kernelspec": {
   "display_name": "Python 3 (ipykernel)",
   "language": "python",
   "name": "python3"
  },
  "language_info": {
   "codemirror_mode": {
    "name": "ipython",
    "version": 3
   },
   "file_extension": ".py",
   "mimetype": "text/x-python",
   "name": "python",
   "nbconvert_exporter": "python",
   "pygments_lexer": "ipython3",
   "version": "3.12.7"
  }
 },
 "nbformat": 4,
 "nbformat_minor": 5
}
